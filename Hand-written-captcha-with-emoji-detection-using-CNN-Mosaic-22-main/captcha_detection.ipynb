{
  "nbformat": 4,
  "nbformat_minor": 0,
  "metadata": {
    "colab": {
      "name": "Three_Musks_ps1.ipynb",
      "provenance": [],
      "collapsed_sections": []
    },
    "kernelspec": {
      "name": "python3",
      "display_name": "Python 3"
    },
    "language_info": {
      "name": "python"
    }
  },
  "cells": [
    {
      "cell_type": "code",
      "execution_count": 1,
      "metadata": {
        "id": "aE0BP9xf7pEO"
      },
      "outputs": [],
      "source": [
        "import os\n",
        "import numpy as np\n",
        "import cv2\n",
        "import glob\n",
        "import pandas as pd\n",
        "from google.colab.patches import cv2_imshow\n",
        "import matplotlib.pyplot as plt"
      ]
    },
    {
      "cell_type": "code",
      "source": [
        "!mkdir -p ~/.kaggle\n",
        "!cp kaggle.json ~/.kaggle/\n",
        "# change the permission of the file\n",
        "!chmod 600 ~/.kaggle/kaggle.json"
      ],
      "metadata": {
        "id": "vwQSNykB8O1l"
      },
      "execution_count": 2,
      "outputs": []
    },
    {
      "cell_type": "code",
      "source": [
        "!kaggle datasets download -d sachinpatel21/az-handwritten-alphabets-in-csv-format"
      ],
      "metadata": {
        "id": "e_A-qsD18O3e",
        "colab": {
          "base_uri": "https://localhost:8080/"
        },
        "outputId": "45faee48-4c81-490a-facb-217e09fc71ad"
      },
      "execution_count": 3,
      "outputs": [
        {
          "output_type": "stream",
          "name": "stdout",
          "text": [
            "Downloading az-handwritten-alphabets-in-csv-format.zip to /content\n",
            "100% 185M/185M [00:02<00:00, 72.3MB/s]\n",
            "100% 185M/185M [00:02<00:00, 67.6MB/s]\n"
          ]
        }
      ]
    },
    {
      "cell_type": "code",
      "source": [
        "from zipfile import ZipFile\n",
        "file_name = 'az-handwritten-alphabets-in-csv-format.zip' #the file is your dataset exact name\n",
        "with ZipFile(file_name, 'r') as zip:\n",
        "  zip.extractall()\n",
        "  print('Done')"
      ],
      "metadata": {
        "id": "Q8BLVnic8O5x",
        "colab": {
          "base_uri": "https://localhost:8080/"
        },
        "outputId": "3dc881ea-3eb3-4233-a0b4-fc1c867cad3a"
      },
      "execution_count": 4,
      "outputs": [
        {
          "output_type": "stream",
          "name": "stdout",
          "text": [
            "Done\n"
          ]
        }
      ]
    },
    {
      "cell_type": "code",
      "source": [
        "df = pd.read_csv('A_Z Handwritten Data.csv' , header = None).sample(frac=1)"
      ],
      "metadata": {
        "id": "MF4LAjYs8O7s"
      },
      "execution_count": 5,
      "outputs": []
    },
    {
      "cell_type": "code",
      "source": [
        "df"
      ],
      "metadata": {
        "colab": {
          "base_uri": "https://localhost:8080/",
          "height": 423
        },
        "id": "UzFz0nHkQofl",
        "outputId": "6437b7a1-a779-4227-b556-ee756da565af"
      },
      "execution_count": 6,
      "outputs": [
        {
          "output_type": "execute_result",
          "data": {
            "text/plain": [
              "        0    1    2    3    4    5    6    7    8    9    ...  775  776  777  \\\n",
              "124244   13    0    0    0    0    0    0    0    0    0  ...    0    0    0   \n",
              "221423   16    0    0    0    0    0    0    0    0    0  ...    0    0    0   \n",
              "163441   14    0    0    0    0    0    0    0    0    0  ...    0    0    0   \n",
              "196863   14    0    0    0    0    0    0    0    0    0  ...    0    0    0   \n",
              "68394     5    0    0    0    0    0    0    0    0    0  ...    0    0    0   \n",
              "...     ...  ...  ...  ...  ...  ...  ...  ...  ...  ...  ...  ...  ...  ...   \n",
              "242432   18    0    0    0    0    0    0    0    0    0  ...    0    0    0   \n",
              "228700   17    0    0    0    0    0    0    0    0    0  ...    0    0    0   \n",
              "307412   20    0    0    0    0    0    0    0    0    0  ...    0    0    0   \n",
              "68080     5    0    0    0    0    0    0    0    0    0  ...    0    0    0   \n",
              "237613   18    0    0    0    0    0    0    0    0    0  ...    0    0    0   \n",
              "\n",
              "        778  779  780  781  782  783  784  \n",
              "124244    0    0    0    0    0    0    0  \n",
              "221423    0    0    0    0    0    0    0  \n",
              "163441    0    0    0    0    0    0    0  \n",
              "196863    0    0    0    0    0    0    0  \n",
              "68394     0    0    0    0    0    0    0  \n",
              "...     ...  ...  ...  ...  ...  ...  ...  \n",
              "242432    0    0    0    0    0    0    0  \n",
              "228700    0    0    0    0    0    0    0  \n",
              "307412    0    0    0    0    0    0    0  \n",
              "68080     0    0    0    0    0    0    0  \n",
              "237613    0    0    0    0    0    0    0  \n",
              "\n",
              "[372451 rows x 785 columns]"
            ],
            "text/html": [
              "\n",
              "  <div id=\"df-5719159e-e092-40d5-8e61-0015c1e7bd12\">\n",
              "    <div class=\"colab-df-container\">\n",
              "      <div>\n",
              "<style scoped>\n",
              "    .dataframe tbody tr th:only-of-type {\n",
              "        vertical-align: middle;\n",
              "    }\n",
              "\n",
              "    .dataframe tbody tr th {\n",
              "        vertical-align: top;\n",
              "    }\n",
              "\n",
              "    .dataframe thead th {\n",
              "        text-align: right;\n",
              "    }\n",
              "</style>\n",
              "<table border=\"1\" class=\"dataframe\">\n",
              "  <thead>\n",
              "    <tr style=\"text-align: right;\">\n",
              "      <th></th>\n",
              "      <th>0</th>\n",
              "      <th>1</th>\n",
              "      <th>2</th>\n",
              "      <th>3</th>\n",
              "      <th>4</th>\n",
              "      <th>5</th>\n",
              "      <th>6</th>\n",
              "      <th>7</th>\n",
              "      <th>8</th>\n",
              "      <th>9</th>\n",
              "      <th>...</th>\n",
              "      <th>775</th>\n",
              "      <th>776</th>\n",
              "      <th>777</th>\n",
              "      <th>778</th>\n",
              "      <th>779</th>\n",
              "      <th>780</th>\n",
              "      <th>781</th>\n",
              "      <th>782</th>\n",
              "      <th>783</th>\n",
              "      <th>784</th>\n",
              "    </tr>\n",
              "  </thead>\n",
              "  <tbody>\n",
              "    <tr>\n",
              "      <th>124244</th>\n",
              "      <td>13</td>\n",
              "      <td>0</td>\n",
              "      <td>0</td>\n",
              "      <td>0</td>\n",
              "      <td>0</td>\n",
              "      <td>0</td>\n",
              "      <td>0</td>\n",
              "      <td>0</td>\n",
              "      <td>0</td>\n",
              "      <td>0</td>\n",
              "      <td>...</td>\n",
              "      <td>0</td>\n",
              "      <td>0</td>\n",
              "      <td>0</td>\n",
              "      <td>0</td>\n",
              "      <td>0</td>\n",
              "      <td>0</td>\n",
              "      <td>0</td>\n",
              "      <td>0</td>\n",
              "      <td>0</td>\n",
              "      <td>0</td>\n",
              "    </tr>\n",
              "    <tr>\n",
              "      <th>221423</th>\n",
              "      <td>16</td>\n",
              "      <td>0</td>\n",
              "      <td>0</td>\n",
              "      <td>0</td>\n",
              "      <td>0</td>\n",
              "      <td>0</td>\n",
              "      <td>0</td>\n",
              "      <td>0</td>\n",
              "      <td>0</td>\n",
              "      <td>0</td>\n",
              "      <td>...</td>\n",
              "      <td>0</td>\n",
              "      <td>0</td>\n",
              "      <td>0</td>\n",
              "      <td>0</td>\n",
              "      <td>0</td>\n",
              "      <td>0</td>\n",
              "      <td>0</td>\n",
              "      <td>0</td>\n",
              "      <td>0</td>\n",
              "      <td>0</td>\n",
              "    </tr>\n",
              "    <tr>\n",
              "      <th>163441</th>\n",
              "      <td>14</td>\n",
              "      <td>0</td>\n",
              "      <td>0</td>\n",
              "      <td>0</td>\n",
              "      <td>0</td>\n",
              "      <td>0</td>\n",
              "      <td>0</td>\n",
              "      <td>0</td>\n",
              "      <td>0</td>\n",
              "      <td>0</td>\n",
              "      <td>...</td>\n",
              "      <td>0</td>\n",
              "      <td>0</td>\n",
              "      <td>0</td>\n",
              "      <td>0</td>\n",
              "      <td>0</td>\n",
              "      <td>0</td>\n",
              "      <td>0</td>\n",
              "      <td>0</td>\n",
              "      <td>0</td>\n",
              "      <td>0</td>\n",
              "    </tr>\n",
              "    <tr>\n",
              "      <th>196863</th>\n",
              "      <td>14</td>\n",
              "      <td>0</td>\n",
              "      <td>0</td>\n",
              "      <td>0</td>\n",
              "      <td>0</td>\n",
              "      <td>0</td>\n",
              "      <td>0</td>\n",
              "      <td>0</td>\n",
              "      <td>0</td>\n",
              "      <td>0</td>\n",
              "      <td>...</td>\n",
              "      <td>0</td>\n",
              "      <td>0</td>\n",
              "      <td>0</td>\n",
              "      <td>0</td>\n",
              "      <td>0</td>\n",
              "      <td>0</td>\n",
              "      <td>0</td>\n",
              "      <td>0</td>\n",
              "      <td>0</td>\n",
              "      <td>0</td>\n",
              "    </tr>\n",
              "    <tr>\n",
              "      <th>68394</th>\n",
              "      <td>5</td>\n",
              "      <td>0</td>\n",
              "      <td>0</td>\n",
              "      <td>0</td>\n",
              "      <td>0</td>\n",
              "      <td>0</td>\n",
              "      <td>0</td>\n",
              "      <td>0</td>\n",
              "      <td>0</td>\n",
              "      <td>0</td>\n",
              "      <td>...</td>\n",
              "      <td>0</td>\n",
              "      <td>0</td>\n",
              "      <td>0</td>\n",
              "      <td>0</td>\n",
              "      <td>0</td>\n",
              "      <td>0</td>\n",
              "      <td>0</td>\n",
              "      <td>0</td>\n",
              "      <td>0</td>\n",
              "      <td>0</td>\n",
              "    </tr>\n",
              "    <tr>\n",
              "      <th>...</th>\n",
              "      <td>...</td>\n",
              "      <td>...</td>\n",
              "      <td>...</td>\n",
              "      <td>...</td>\n",
              "      <td>...</td>\n",
              "      <td>...</td>\n",
              "      <td>...</td>\n",
              "      <td>...</td>\n",
              "      <td>...</td>\n",
              "      <td>...</td>\n",
              "      <td>...</td>\n",
              "      <td>...</td>\n",
              "      <td>...</td>\n",
              "      <td>...</td>\n",
              "      <td>...</td>\n",
              "      <td>...</td>\n",
              "      <td>...</td>\n",
              "      <td>...</td>\n",
              "      <td>...</td>\n",
              "      <td>...</td>\n",
              "      <td>...</td>\n",
              "    </tr>\n",
              "    <tr>\n",
              "      <th>242432</th>\n",
              "      <td>18</td>\n",
              "      <td>0</td>\n",
              "      <td>0</td>\n",
              "      <td>0</td>\n",
              "      <td>0</td>\n",
              "      <td>0</td>\n",
              "      <td>0</td>\n",
              "      <td>0</td>\n",
              "      <td>0</td>\n",
              "      <td>0</td>\n",
              "      <td>...</td>\n",
              "      <td>0</td>\n",
              "      <td>0</td>\n",
              "      <td>0</td>\n",
              "      <td>0</td>\n",
              "      <td>0</td>\n",
              "      <td>0</td>\n",
              "      <td>0</td>\n",
              "      <td>0</td>\n",
              "      <td>0</td>\n",
              "      <td>0</td>\n",
              "    </tr>\n",
              "    <tr>\n",
              "      <th>228700</th>\n",
              "      <td>17</td>\n",
              "      <td>0</td>\n",
              "      <td>0</td>\n",
              "      <td>0</td>\n",
              "      <td>0</td>\n",
              "      <td>0</td>\n",
              "      <td>0</td>\n",
              "      <td>0</td>\n",
              "      <td>0</td>\n",
              "      <td>0</td>\n",
              "      <td>...</td>\n",
              "      <td>0</td>\n",
              "      <td>0</td>\n",
              "      <td>0</td>\n",
              "      <td>0</td>\n",
              "      <td>0</td>\n",
              "      <td>0</td>\n",
              "      <td>0</td>\n",
              "      <td>0</td>\n",
              "      <td>0</td>\n",
              "      <td>0</td>\n",
              "    </tr>\n",
              "    <tr>\n",
              "      <th>307412</th>\n",
              "      <td>20</td>\n",
              "      <td>0</td>\n",
              "      <td>0</td>\n",
              "      <td>0</td>\n",
              "      <td>0</td>\n",
              "      <td>0</td>\n",
              "      <td>0</td>\n",
              "      <td>0</td>\n",
              "      <td>0</td>\n",
              "      <td>0</td>\n",
              "      <td>...</td>\n",
              "      <td>0</td>\n",
              "      <td>0</td>\n",
              "      <td>0</td>\n",
              "      <td>0</td>\n",
              "      <td>0</td>\n",
              "      <td>0</td>\n",
              "      <td>0</td>\n",
              "      <td>0</td>\n",
              "      <td>0</td>\n",
              "      <td>0</td>\n",
              "    </tr>\n",
              "    <tr>\n",
              "      <th>68080</th>\n",
              "      <td>5</td>\n",
              "      <td>0</td>\n",
              "      <td>0</td>\n",
              "      <td>0</td>\n",
              "      <td>0</td>\n",
              "      <td>0</td>\n",
              "      <td>0</td>\n",
              "      <td>0</td>\n",
              "      <td>0</td>\n",
              "      <td>0</td>\n",
              "      <td>...</td>\n",
              "      <td>0</td>\n",
              "      <td>0</td>\n",
              "      <td>0</td>\n",
              "      <td>0</td>\n",
              "      <td>0</td>\n",
              "      <td>0</td>\n",
              "      <td>0</td>\n",
              "      <td>0</td>\n",
              "      <td>0</td>\n",
              "      <td>0</td>\n",
              "    </tr>\n",
              "    <tr>\n",
              "      <th>237613</th>\n",
              "      <td>18</td>\n",
              "      <td>0</td>\n",
              "      <td>0</td>\n",
              "      <td>0</td>\n",
              "      <td>0</td>\n",
              "      <td>0</td>\n",
              "      <td>0</td>\n",
              "      <td>0</td>\n",
              "      <td>0</td>\n",
              "      <td>0</td>\n",
              "      <td>...</td>\n",
              "      <td>0</td>\n",
              "      <td>0</td>\n",
              "      <td>0</td>\n",
              "      <td>0</td>\n",
              "      <td>0</td>\n",
              "      <td>0</td>\n",
              "      <td>0</td>\n",
              "      <td>0</td>\n",
              "      <td>0</td>\n",
              "      <td>0</td>\n",
              "    </tr>\n",
              "  </tbody>\n",
              "</table>\n",
              "<p>372451 rows × 785 columns</p>\n",
              "</div>\n",
              "      <button class=\"colab-df-convert\" onclick=\"convertToInteractive('df-5719159e-e092-40d5-8e61-0015c1e7bd12')\"\n",
              "              title=\"Convert this dataframe to an interactive table.\"\n",
              "              style=\"display:none;\">\n",
              "        \n",
              "  <svg xmlns=\"http://www.w3.org/2000/svg\" height=\"24px\"viewBox=\"0 0 24 24\"\n",
              "       width=\"24px\">\n",
              "    <path d=\"M0 0h24v24H0V0z\" fill=\"none\"/>\n",
              "    <path d=\"M18.56 5.44l.94 2.06.94-2.06 2.06-.94-2.06-.94-.94-2.06-.94 2.06-2.06.94zm-11 1L8.5 8.5l.94-2.06 2.06-.94-2.06-.94L8.5 2.5l-.94 2.06-2.06.94zm10 10l.94 2.06.94-2.06 2.06-.94-2.06-.94-.94-2.06-.94 2.06-2.06.94z\"/><path d=\"M17.41 7.96l-1.37-1.37c-.4-.4-.92-.59-1.43-.59-.52 0-1.04.2-1.43.59L10.3 9.45l-7.72 7.72c-.78.78-.78 2.05 0 2.83L4 21.41c.39.39.9.59 1.41.59.51 0 1.02-.2 1.41-.59l7.78-7.78 2.81-2.81c.8-.78.8-2.07 0-2.86zM5.41 20L4 18.59l7.72-7.72 1.47 1.35L5.41 20z\"/>\n",
              "  </svg>\n",
              "      </button>\n",
              "      \n",
              "  <style>\n",
              "    .colab-df-container {\n",
              "      display:flex;\n",
              "      flex-wrap:wrap;\n",
              "      gap: 12px;\n",
              "    }\n",
              "\n",
              "    .colab-df-convert {\n",
              "      background-color: #E8F0FE;\n",
              "      border: none;\n",
              "      border-radius: 50%;\n",
              "      cursor: pointer;\n",
              "      display: none;\n",
              "      fill: #1967D2;\n",
              "      height: 32px;\n",
              "      padding: 0 0 0 0;\n",
              "      width: 32px;\n",
              "    }\n",
              "\n",
              "    .colab-df-convert:hover {\n",
              "      background-color: #E2EBFA;\n",
              "      box-shadow: 0px 1px 2px rgba(60, 64, 67, 0.3), 0px 1px 3px 1px rgba(60, 64, 67, 0.15);\n",
              "      fill: #174EA6;\n",
              "    }\n",
              "\n",
              "    [theme=dark] .colab-df-convert {\n",
              "      background-color: #3B4455;\n",
              "      fill: #D2E3FC;\n",
              "    }\n",
              "\n",
              "    [theme=dark] .colab-df-convert:hover {\n",
              "      background-color: #434B5C;\n",
              "      box-shadow: 0px 1px 3px 1px rgba(0, 0, 0, 0.15);\n",
              "      filter: drop-shadow(0px 1px 2px rgba(0, 0, 0, 0.3));\n",
              "      fill: #FFFFFF;\n",
              "    }\n",
              "  </style>\n",
              "\n",
              "      <script>\n",
              "        const buttonEl =\n",
              "          document.querySelector('#df-5719159e-e092-40d5-8e61-0015c1e7bd12 button.colab-df-convert');\n",
              "        buttonEl.style.display =\n",
              "          google.colab.kernel.accessAllowed ? 'block' : 'none';\n",
              "\n",
              "        async function convertToInteractive(key) {\n",
              "          const element = document.querySelector('#df-5719159e-e092-40d5-8e61-0015c1e7bd12');\n",
              "          const dataTable =\n",
              "            await google.colab.kernel.invokeFunction('convertToInteractive',\n",
              "                                                     [key], {});\n",
              "          if (!dataTable) return;\n",
              "\n",
              "          const docLinkHtml = 'Like what you see? Visit the ' +\n",
              "            '<a target=\"_blank\" href=https://colab.research.google.com/notebooks/data_table.ipynb>data table notebook</a>'\n",
              "            + ' to learn more about interactive tables.';\n",
              "          element.innerHTML = '';\n",
              "          dataTable['output_type'] = 'display_data';\n",
              "          await google.colab.output.renderOutput(dataTable, element);\n",
              "          const docLink = document.createElement('div');\n",
              "          docLink.innerHTML = docLinkHtml;\n",
              "          element.appendChild(docLink);\n",
              "        }\n",
              "      </script>\n",
              "    </div>\n",
              "  </div>\n",
              "  "
            ]
          },
          "metadata": {},
          "execution_count": 6
        }
      ]
    },
    {
      "cell_type": "code",
      "source": [
        "x_part = df.iloc[:,1:]\n",
        "x_part\n",
        "y_part = df.iloc[:,:1]\n",
        "y_part = np.array(y_part)\n",
        "x_part = np.array(x_part)"
      ],
      "metadata": {
        "id": "FaN9bT5I8O99"
      },
      "execution_count": 7,
      "outputs": []
    },
    {
      "cell_type": "code",
      "source": [
        "y_part.shape"
      ],
      "metadata": {
        "colab": {
          "base_uri": "https://localhost:8080/"
        },
        "id": "d4dHaaIa5YA8",
        "outputId": "20ebf64c-7b08-477c-d310-7667e8042cc0"
      },
      "execution_count": 8,
      "outputs": [
        {
          "output_type": "execute_result",
          "data": {
            "text/plain": [
              "(372451, 1)"
            ]
          },
          "metadata": {},
          "execution_count": 8
        }
      ]
    },
    {
      "cell_type": "code",
      "source": [
        "np.unique(y_part).shape"
      ],
      "metadata": {
        "colab": {
          "base_uri": "https://localhost:8080/"
        },
        "id": "arl86XiJQTTx",
        "outputId": "08934d6b-921e-4a0d-f75a-491e1893be70"
      },
      "execution_count": 9,
      "outputs": [
        {
          "output_type": "execute_result",
          "data": {
            "text/plain": [
              "(26,)"
            ]
          },
          "metadata": {},
          "execution_count": 9
        }
      ]
    },
    {
      "cell_type": "code",
      "source": [
        "def preprocess(mask):\n",
        "    # p,q = mask.shape\n",
        "    # for i in range(p):\n",
        "    #   for j in range(q):\n",
        "    #     if mask[i][j]>165.0:\n",
        "    #       mask[i][j]=255.0\n",
        "    #     else:\n",
        "    #       mask[i][j]=0.0 \n",
        "    return mask"
      ],
      "metadata": {
        "id": "dVbrfJD19dZA"
      },
      "execution_count": 10,
      "outputs": []
    },
    {
      "cell_type": "code",
      "source": [
        "def preprocess2(mask):\n",
        "    p,q = mask.shape\n",
        "    for i in range(p):\n",
        "      for j in range(q):\n",
        "        if mask[i][j]>165.0:\n",
        "          mask[i][j]=255.0\n",
        "        # else:\n",
        "        #   mask[i][j]=255.0 \n",
        "        mask[i][j]=255-mask[i][j]\n",
        "    return mask"
      ],
      "metadata": {
        "id": "FFZMQ_TIEoNo"
      },
      "execution_count": 11,
      "outputs": []
    },
    {
      "cell_type": "code",
      "source": [
        "x_part = x_part.reshape(x_part.shape[0],28,28,1)\n"
      ],
      "metadata": {
        "id": "XoMij76r8O_6"
      },
      "execution_count": 12,
      "outputs": []
    },
    {
      "cell_type": "code",
      "source": [
        "map_p={\n",
        "    1:'A',\n",
        "    2:'B',\n",
        "    3:'C',\n",
        "    4:'D',\n",
        "    5:'E',\n",
        "    6:'F',\n",
        "    7:'G',\n",
        "    8:'H',\n",
        "    9:'I',\n",
        "    10:'J',\n",
        "    11:'K',\n",
        "    12:'L',\n",
        "    13:'M',\n",
        "    14:'N',\n",
        "    15:'O',\n",
        "    16:'P',\n",
        "    17:'Q',\n",
        "    18:'R',\n",
        "    19:'S',\n",
        "    20:'T',\n",
        "    21:'U',\n",
        "    22:'V',\n",
        "    23:'W',\n",
        "    24:'X',\n",
        "    25:'Y',\n",
        "    26:'Z',\n",
        "    27:'1',\n",
        "    28:'2',\n",
        "    29:'3',\n",
        "    30:'4',\n",
        "    31:'5',\n",
        "    32:'6',\n",
        "    33:'7'\n",
        "}"
      ],
      "metadata": {
        "id": "E_XoX_qexY5z"
      },
      "execution_count": 13,
      "outputs": []
    },
    {
      "cell_type": "code",
      "source": [
        "img1 = x_part[20].reshape(28,28)\n",
        "img1.shape\n",
        "plt.imshow(img1,cmap='gray')"
      ],
      "metadata": {
        "colab": {
          "base_uri": "https://localhost:8080/",
          "height": 282
        },
        "id": "eRMSMgjSCFbq",
        "outputId": "d2b829b7-5f0a-47fd-d449-ebad967790e6"
      },
      "execution_count": 14,
      "outputs": [
        {
          "output_type": "execute_result",
          "data": {
            "text/plain": [
              "<matplotlib.image.AxesImage at 0x7fe843002090>"
            ]
          },
          "metadata": {},
          "execution_count": 14
        },
        {
          "output_type": "display_data",
          "data": {
            "text/plain": [
              "<Figure size 432x288 with 1 Axes>"
            ],
            "image/png": "[encoded data removed]"
          },
          "metadata": {
            "needs_background": "light"
          }
        }
      ]
    },
    {
      "cell_type": "code",
      "source": [
        "type(x_part)"
      ],
      "metadata": {
        "colab": {
          "base_uri": "https://localhost:8080/"
        },
        "id": "qa2xwZJVvfpX",
        "outputId": "57cdb120-11a2-4e55-c3ac-ef383b0603ac"
      },
      "execution_count": 15,
      "outputs": [
        {
          "output_type": "execute_result",
          "data": {
            "text/plain": [
              "numpy.ndarray"
            ]
          },
          "metadata": {},
          "execution_count": 15
        }
      ]
    },
    {
      "cell_type": "code",
      "source": [
        "np.unique(y_part).shape"
      ],
      "metadata": {
        "colab": {
          "base_uri": "https://localhost:8080/"
        },
        "id": "WMfP7cCZ9TTb",
        "outputId": "dd3b7913-7b1e-4a72-ccb5-365143977ac5"
      },
      "execution_count": 16,
      "outputs": [
        {
          "output_type": "execute_result",
          "data": {
            "text/plain": [
              "(26,)"
            ]
          },
          "metadata": {},
          "execution_count": 16
        }
      ]
    },
    {
      "cell_type": "code",
      "source": [
        "# np.unique(y_em)"
      ],
      "metadata": {
        "id": "Jfr0BZkUpGKl"
      },
      "execution_count": 17,
      "outputs": []
    },
    {
      "cell_type": "code",
      "source": [
        "from sklearn.model_selection import train_test_split\n",
        "import tensorflow as tf\n",
        "from tensorflow.keras.layers import Conv2D, MaxPooling2D, Dense, Dropout, BatchNormalization, Flatten,  GlobalAveragePooling2D\n",
        "from tensorflow.keras.models import Model, Sequential\n",
        "from tensorflow.keras.preprocessing.image import ImageDataGenerator\n",
        "from tensorflow.keras.callbacks import ModelCheckpoint, LearningRateScheduler, EarlyStopping\n",
        "import os\n",
        "from PIL import Image\n",
        "from tensorflow import keras\n",
        "from tensorflow.keras import layers\n",
        "from tensorflow.keras import models"
      ],
      "metadata": {
        "id": "EHDJBAT_8PJw"
      },
      "execution_count": 18,
      "outputs": []
    },
    {
      "cell_type": "code",
      "source": [
        "model = keras.models.Sequential()\n",
        "model.add(keras.layers.Conv2D(filters=12, kernel_size=(5,5), strides=2, activation='relu', input_shape=(28,28,1)))\n",
        "model.add(keras.layers.Dropout(.5))\n",
        "model.add(keras.layers.Conv2D(filters=18, kernel_size=(3,3) , strides=2, activation='relu'))\n",
        "model.add(keras.layers.Dropout(.5))\n",
        "model.add(keras.layers.Conv2D(filters=24, kernel_size=(2,2), activation='relu'))\n",
        "model.add(keras.layers.Flatten())\n",
        "model.add(keras.layers.Dense(units=150, activation='relu'))\n",
        "model.add(keras.layers.Dense(26, activation='softmax'))\n",
        "model.compile(loss='sparse_categorical_crossentropy', optimizer='Adam', metrics=['accuracy'])\n",
        "model.summary()"
      ],
      "metadata": {
        "colab": {
          "base_uri": "https://localhost:8080/"
        },
        "id": "Om1Z5iMjZkBV",
        "outputId": "c0990473-509d-4420-fbfd-e8ba5412713c"
      },
      "execution_count": 19,
      "outputs": [
        {
          "output_type": "stream",
          "name": "stdout",
          "text": [
            "Model: \"sequential\"\n",
            "_________________________________________________________________\n",
            " Layer (type)                Output Shape              Param #   \n",
            "=================================================================\n",
            " conv2d (Conv2D)             (None, 12, 12, 12)        312       \n",
            "                                                                 \n",
            " dropout (Dropout)           (None, 12, 12, 12)        0         \n",
            "                                                                 \n",
            " conv2d_1 (Conv2D)           (None, 5, 5, 18)          1962      \n",
            "                                                                 \n",
            " dropout_1 (Dropout)         (None, 5, 5, 18)          0         \n",
            "                                                                 \n",
            " conv2d_2 (Conv2D)           (None, 4, 4, 24)          1752      \n",
            "                                                                 \n",
            " flatten (Flatten)           (None, 384)               0         \n",
            "                                                                 \n",
            " dense (Dense)               (None, 150)               57750     \n",
            "                                                                 \n",
            " dense_1 (Dense)             (None, 26)                3926      \n",
            "                                                                 \n",
            "=================================================================\n",
            "Total params: 65,702\n",
            "Trainable params: 65,702\n",
            "Non-trainable params: 0\n",
            "_________________________________________________________________\n"
          ]
        }
      ]
    },
    {
      "cell_type": "code",
      "source": [
        "# x = x/255.0"
      ],
      "metadata": {
        "id": "e7kreRPC8PNn"
      },
      "execution_count": 20,
      "outputs": []
    },
    {
      "cell_type": "code",
      "source": [
        "x_part.shape"
      ],
      "metadata": {
        "colab": {
          "base_uri": "https://localhost:8080/"
        },
        "id": "fKFvazSNuSIu",
        "outputId": "4010a7ae-a147-41f5-d4db-ab65411d8c3e"
      },
      "execution_count": 21,
      "outputs": [
        {
          "output_type": "execute_result",
          "data": {
            "text/plain": [
              "(372451, 28, 28, 1)"
            ]
          },
          "metadata": {},
          "execution_count": 21
        }
      ]
    },
    {
      "cell_type": "code",
      "source": [
        "x_part=np.array(x_part).astype('float32')\n",
        "y_part=np.array(y_part).astype('float32')\n"
      ],
      "metadata": {
        "id": "H9U8WEhN0-_P"
      },
      "execution_count": 22,
      "outputs": []
    },
    {
      "cell_type": "code",
      "source": [
        "x_tr, x_ts , y_tr, y_ts = train_test_split(x_part, y_part, test_size=0.33, random_state=42)"
      ],
      "metadata": {
        "id": "oXSAqClA8PPd"
      },
      "execution_count": 23,
      "outputs": []
    },
    {
      "cell_type": "code",
      "source": [
        "history = model.fit(x_tr, y_tr, epochs=7)"
      ],
      "metadata": {
        "colab": {
          "base_uri": "https://localhost:8080/"
        },
        "id": "DtFPZAez8PRT",
        "outputId": "3dc71890-bb92-4331-8624-979f369f8ada"
      },
      "execution_count": 24,
      "outputs": [
        {
          "output_type": "stream",
          "name": "stdout",
          "text": [
            "Epoch 1/7\n",
            "7799/7799 [==============================] - 74s 9ms/step - loss: 0.7251 - accuracy: 0.7994\n",
            "Epoch 2/7\n",
            "7799/7799 [==============================] - 70s 9ms/step - loss: 0.2873 - accuracy: 0.9136\n",
            "Epoch 3/7\n",
            "7799/7799 [==============================] - 71s 9ms/step - loss: 0.2484 - accuracy: 0.9249\n",
            "Epoch 4/7\n",
            "7799/7799 [==============================] - 72s 9ms/step - loss: 0.2345 - accuracy: 0.9291\n",
            "Epoch 5/7\n",
            "7799/7799 [==============================] - 69s 9ms/step - loss: 0.2260 - accuracy: 0.9312\n",
            "Epoch 6/7\n",
            "7799/7799 [==============================] - 69s 9ms/step - loss: 0.2201 - accuracy: 0.9333\n",
            "Epoch 7/7\n",
            "7799/7799 [==============================] - 68s 9ms/step - loss: 0.2171 - accuracy: 0.9337\n"
          ]
        }
      ]
    },
    {
      "cell_type": "code",
      "source": [
        "model.evaluate(x_ts,y_ts)"
      ],
      "metadata": {
        "colab": {
          "base_uri": "https://localhost:8080/"
        },
        "id": "xOSkhjN28PU2",
        "outputId": "90b8634c-378f-4643-a129-ec739152e5fe"
      },
      "execution_count": 25,
      "outputs": [
        {
          "output_type": "stream",
          "name": "stdout",
          "text": [
            "3841/3841 [==============================] - 13s 3ms/step - loss: 0.1184 - accuracy: 0.9643\n"
          ]
        },
        {
          "output_type": "execute_result",
          "data": {
            "text/plain": [
              "[0.11836613714694977, 0.9643150568008423]"
            ]
          },
          "metadata": {},
          "execution_count": 25
        }
      ]
    },
    {
      "cell_type": "markdown",
      "source": [
        "EMOJI MODEL STARTED\n"
      ],
      "metadata": {
        "id": "LSGnXERk0gsY"
      }
    },
    {
      "cell_type": "code",
      "source": [
        "df_t = pd.read_csv('emoji_newaug.csv')"
      ],
      "metadata": {
        "id": "vbokaX7S0dXT"
      },
      "execution_count": 26,
      "outputs": []
    },
    {
      "cell_type": "code",
      "source": [
        "df_t"
      ],
      "metadata": {
        "colab": {
          "base_uri": "https://localhost:8080/",
          "height": 423
        },
        "id": "1mDXmm2s0dbs",
        "outputId": "d4bc2505-c402-4b6a-ecdd-432cec05aebe"
      },
      "execution_count": 27,
      "outputs": [
        {
          "output_type": "execute_result",
          "data": {
            "text/plain": [
              "      0  1  2  3  4  5  6  7  8  9  ...  775  776  777  778  779  780  781  \\\n",
              "0     3  0  0  0  0  0  0  0  0  0  ...    0    0    0    0    0    0    0   \n",
              "1     4  0  0  0  0  0  0  0  0  0  ...    0    0    0    0    0    0    0   \n",
              "2     1  0  0  0  0  0  0  0  0  0  ...    0    0    0    0    0    0    0   \n",
              "3     5  0  0  0  0  0  0  0  0  0  ...    0    0    0    0    0    0    0   \n",
              "4     6  0  0  0  0  0  0  0  0  0  ...    0    0    0    0    0    0    0   \n",
              "...  .. .. .. .. .. .. .. .. .. ..  ...  ...  ...  ...  ...  ...  ...  ...   \n",
              "7428  0  0  0  0  0  0  0  0  0  0  ...    0    0    0    0    0    0    0   \n",
              "7429  6  0  0  0  0  0  0  0  0  0  ...    0    0    0    0    0    0    0   \n",
              "7430  2  0  0  0  0  0  0  0  0  0  ...    0    0    0    0    0    0    0   \n",
              "7431  0  0  0  0  0  0  0  0  0  0  ...    0    0    0    0    0    0    0   \n",
              "7432  3  0  0  0  0  0  0  0  0  0  ...    0    0    0    0    0    0    0   \n",
              "\n",
              "      782  783  784  \n",
              "0       0    0    0  \n",
              "1       0    0    0  \n",
              "2       0    0    0  \n",
              "3       0    0    0  \n",
              "4       0    0    0  \n",
              "...   ...  ...  ...  \n",
              "7428    0    0    0  \n",
              "7429    0    0    0  \n",
              "7430    0    0    0  \n",
              "7431    0    0    0  \n",
              "7432    0    0    0  \n",
              "\n",
              "[7433 rows x 785 columns]"
            ],
            "text/html": [
              "\n",
              "  <div id=\"df-d591352a-f0e7-4371-9895-480b5e1c1814\">\n",
              "    <div class=\"colab-df-container\">\n",
              "      <div>\n",
              "<style scoped>\n",
              "    .dataframe tbody tr th:only-of-type {\n",
              "        vertical-align: middle;\n",
              "    }\n",
              "\n",
              "    .dataframe tbody tr th {\n",
              "        vertical-align: top;\n",
              "    }\n",
              "\n",
              "    .dataframe thead th {\n",
              "        text-align: right;\n",
              "    }\n",
              "</style>\n",
              "<table border=\"1\" class=\"dataframe\">\n",
              "  <thead>\n",
              "    <tr style=\"text-align: right;\">\n",
              "      <th></th>\n",
              "      <th>0</th>\n",
              "      <th>1</th>\n",
              "      <th>2</th>\n",
              "      <th>3</th>\n",
              "      <th>4</th>\n",
              "      <th>5</th>\n",
              "      <th>6</th>\n",
              "      <th>7</th>\n",
              "      <th>8</th>\n",
              "      <th>9</th>\n",
              "      <th>...</th>\n",
              "      <th>775</th>\n",
              "      <th>776</th>\n",
              "      <th>777</th>\n",
              "      <th>778</th>\n",
              "      <th>779</th>\n",
              "      <th>780</th>\n",
              "      <th>781</th>\n",
              "      <th>782</th>\n",
              "      <th>783</th>\n",
              "      <th>784</th>\n",
              "    </tr>\n",
              "  </thead>\n",
              "  <tbody>\n",
              "    <tr>\n",
              "      <th>0</th>\n",
              "      <td>3</td>\n",
              "      <td>0</td>\n",
              "      <td>0</td>\n",
              "      <td>0</td>\n",
              "      <td>0</td>\n",
              "      <td>0</td>\n",
              "      <td>0</td>\n",
              "      <td>0</td>\n",
              "      <td>0</td>\n",
              "      <td>0</td>\n",
              "      <td>...</td>\n",
              "      <td>0</td>\n",
              "      <td>0</td>\n",
              "      <td>0</td>\n",
              "      <td>0</td>\n",
              "      <td>0</td>\n",
              "      <td>0</td>\n",
              "      <td>0</td>\n",
              "      <td>0</td>\n",
              "      <td>0</td>\n",
              "      <td>0</td>\n",
              "    </tr>\n",
              "    <tr>\n",
              "      <th>1</th>\n",
              "      <td>4</td>\n",
              "      <td>0</td>\n",
              "      <td>0</td>\n",
              "      <td>0</td>\n",
              "      <td>0</td>\n",
              "      <td>0</td>\n",
              "      <td>0</td>\n",
              "      <td>0</td>\n",
              "      <td>0</td>\n",
              "      <td>0</td>\n",
              "      <td>...</td>\n",
              "      <td>0</td>\n",
              "      <td>0</td>\n",
              "      <td>0</td>\n",
              "      <td>0</td>\n",
              "      <td>0</td>\n",
              "      <td>0</td>\n",
              "      <td>0</td>\n",
              "      <td>0</td>\n",
              "      <td>0</td>\n",
              "      <td>0</td>\n",
              "    </tr>\n",
              "    <tr>\n",
              "      <th>2</th>\n",
              "      <td>1</td>\n",
              "      <td>0</td>\n",
              "      <td>0</td>\n",
              "      <td>0</td>\n",
              "      <td>0</td>\n",
              "      <td>0</td>\n",
              "      <td>0</td>\n",
              "      <td>0</td>\n",
              "      <td>0</td>\n",
              "      <td>0</td>\n",
              "      <td>...</td>\n",
              "      <td>0</td>\n",
              "      <td>0</td>\n",
              "      <td>0</td>\n",
              "      <td>0</td>\n",
              "      <td>0</td>\n",
              "      <td>0</td>\n",
              "      <td>0</td>\n",
              "      <td>0</td>\n",
              "      <td>0</td>\n",
              "      <td>0</td>\n",
              "    </tr>\n",
              "    <tr>\n",
              "      <th>3</th>\n",
              "      <td>5</td>\n",
              "      <td>0</td>\n",
              "      <td>0</td>\n",
              "      <td>0</td>\n",
              "      <td>0</td>\n",
              "      <td>0</td>\n",
              "      <td>0</td>\n",
              "      <td>0</td>\n",
              "      <td>0</td>\n",
              "      <td>0</td>\n",
              "      <td>...</td>\n",
              "      <td>0</td>\n",
              "      <td>0</td>\n",
              "      <td>0</td>\n",
              "      <td>0</td>\n",
              "      <td>0</td>\n",
              "      <td>0</td>\n",
              "      <td>0</td>\n",
              "      <td>0</td>\n",
              "      <td>0</td>\n",
              "      <td>0</td>\n",
              "    </tr>\n",
              "    <tr>\n",
              "      <th>4</th>\n",
              "      <td>6</td>\n",
              "      <td>0</td>\n",
              "      <td>0</td>\n",
              "      <td>0</td>\n",
              "      <td>0</td>\n",
              "      <td>0</td>\n",
              "      <td>0</td>\n",
              "      <td>0</td>\n",
              "      <td>0</td>\n",
              "      <td>0</td>\n",
              "      <td>...</td>\n",
              "      <td>0</td>\n",
              "      <td>0</td>\n",
              "      <td>0</td>\n",
              "      <td>0</td>\n",
              "      <td>0</td>\n",
              "      <td>0</td>\n",
              "      <td>0</td>\n",
              "      <td>0</td>\n",
              "      <td>0</td>\n",
              "      <td>0</td>\n",
              "    </tr>\n",
              "    <tr>\n",
              "      <th>...</th>\n",
              "      <td>...</td>\n",
              "      <td>...</td>\n",
              "      <td>...</td>\n",
              "      <td>...</td>\n",
              "      <td>...</td>\n",
              "      <td>...</td>\n",
              "      <td>...</td>\n",
              "      <td>...</td>\n",
              "      <td>...</td>\n",
              "      <td>...</td>\n",
              "      <td>...</td>\n",
              "      <td>...</td>\n",
              "      <td>...</td>\n",
              "      <td>...</td>\n",
              "      <td>...</td>\n",
              "      <td>...</td>\n",
              "      <td>...</td>\n",
              "      <td>...</td>\n",
              "      <td>...</td>\n",
              "      <td>...</td>\n",
              "      <td>...</td>\n",
              "    </tr>\n",
              "    <tr>\n",
              "      <th>7428</th>\n",
              "      <td>0</td>\n",
              "      <td>0</td>\n",
              "      <td>0</td>\n",
              "      <td>0</td>\n",
              "      <td>0</td>\n",
              "      <td>0</td>\n",
              "      <td>0</td>\n",
              "      <td>0</td>\n",
              "      <td>0</td>\n",
              "      <td>0</td>\n",
              "      <td>...</td>\n",
              "      <td>0</td>\n",
              "      <td>0</td>\n",
              "      <td>0</td>\n",
              "      <td>0</td>\n",
              "      <td>0</td>\n",
              "      <td>0</td>\n",
              "      <td>0</td>\n",
              "      <td>0</td>\n",
              "      <td>0</td>\n",
              "      <td>0</td>\n",
              "    </tr>\n",
              "    <tr>\n",
              "      <th>7429</th>\n",
              "      <td>6</td>\n",
              "      <td>0</td>\n",
              "      <td>0</td>\n",
              "      <td>0</td>\n",
              "      <td>0</td>\n",
              "      <td>0</td>\n",
              "      <td>0</td>\n",
              "      <td>0</td>\n",
              "      <td>0</td>\n",
              "      <td>0</td>\n",
              "      <td>...</td>\n",
              "      <td>0</td>\n",
              "      <td>0</td>\n",
              "      <td>0</td>\n",
              "      <td>0</td>\n",
              "      <td>0</td>\n",
              "      <td>0</td>\n",
              "      <td>0</td>\n",
              "      <td>0</td>\n",
              "      <td>0</td>\n",
              "      <td>0</td>\n",
              "    </tr>\n",
              "    <tr>\n",
              "      <th>7430</th>\n",
              "      <td>2</td>\n",
              "      <td>0</td>\n",
              "      <td>0</td>\n",
              "      <td>0</td>\n",
              "      <td>0</td>\n",
              "      <td>0</td>\n",
              "      <td>0</td>\n",
              "      <td>0</td>\n",
              "      <td>0</td>\n",
              "      <td>0</td>\n",
              "      <td>...</td>\n",
              "      <td>0</td>\n",
              "      <td>0</td>\n",
              "      <td>0</td>\n",
              "      <td>0</td>\n",
              "      <td>0</td>\n",
              "      <td>0</td>\n",
              "      <td>0</td>\n",
              "      <td>0</td>\n",
              "      <td>0</td>\n",
              "      <td>0</td>\n",
              "    </tr>\n",
              "    <tr>\n",
              "      <th>7431</th>\n",
              "      <td>0</td>\n",
              "      <td>0</td>\n",
              "      <td>0</td>\n",
              "      <td>0</td>\n",
              "      <td>0</td>\n",
              "      <td>0</td>\n",
              "      <td>0</td>\n",
              "      <td>0</td>\n",
              "      <td>0</td>\n",
              "      <td>0</td>\n",
              "      <td>...</td>\n",
              "      <td>0</td>\n",
              "      <td>0</td>\n",
              "      <td>0</td>\n",
              "      <td>0</td>\n",
              "      <td>0</td>\n",
              "      <td>0</td>\n",
              "      <td>0</td>\n",
              "      <td>0</td>\n",
              "      <td>0</td>\n",
              "      <td>0</td>\n",
              "    </tr>\n",
              "    <tr>\n",
              "      <th>7432</th>\n",
              "      <td>3</td>\n",
              "      <td>0</td>\n",
              "      <td>0</td>\n",
              "      <td>0</td>\n",
              "      <td>0</td>\n",
              "      <td>0</td>\n",
              "      <td>0</td>\n",
              "      <td>0</td>\n",
              "      <td>0</td>\n",
              "      <td>0</td>\n",
              "      <td>...</td>\n",
              "      <td>0</td>\n",
              "      <td>0</td>\n",
              "      <td>0</td>\n",
              "      <td>0</td>\n",
              "      <td>0</td>\n",
              "      <td>0</td>\n",
              "      <td>0</td>\n",
              "      <td>0</td>\n",
              "      <td>0</td>\n",
              "      <td>0</td>\n",
              "    </tr>\n",
              "  </tbody>\n",
              "</table>\n",
              "<p>7433 rows × 785 columns</p>\n",
              "</div>\n",
              "      <button class=\"colab-df-convert\" onclick=\"convertToInteractive('df-d591352a-f0e7-4371-9895-480b5e1c1814')\"\n",
              "              title=\"Convert this dataframe to an interactive table.\"\n",
              "              style=\"display:none;\">\n",
              "        \n",
              "  <svg xmlns=\"http://www.w3.org/2000/svg\" height=\"24px\"viewBox=\"0 0 24 24\"\n",
              "       width=\"24px\">\n",
              "    <path d=\"M0 0h24v24H0V0z\" fill=\"none\"/>\n",
              "    <path d=\"M18.56 5.44l.94 2.06.94-2.06 2.06-.94-2.06-.94-.94-2.06-.94 2.06-2.06.94zm-11 1L8.5 8.5l.94-2.06 2.06-.94-2.06-.94L8.5 2.5l-.94 2.06-2.06.94zm10 10l.94 2.06.94-2.06 2.06-.94-2.06-.94-.94-2.06-.94 2.06-2.06.94z\"/><path d=\"M17.41 7.96l-1.37-1.37c-.4-.4-.92-.59-1.43-.59-.52 0-1.04.2-1.43.59L10.3 9.45l-7.72 7.72c-.78.78-.78 2.05 0 2.83L4 21.41c.39.39.9.59 1.41.59.51 0 1.02-.2 1.41-.59l7.78-7.78 2.81-2.81c.8-.78.8-2.07 0-2.86zM5.41 20L4 18.59l7.72-7.72 1.47 1.35L5.41 20z\"/>\n",
              "  </svg>\n",
              "      </button>\n",
              "      \n",
              "  <style>\n",
              "    .colab-df-container {\n",
              "      display:flex;\n",
              "      flex-wrap:wrap;\n",
              "      gap: 12px;\n",
              "    }\n",
              "\n",
              "    .colab-df-convert {\n",
              "      background-color: #E8F0FE;\n",
              "      border: none;\n",
              "      border-radius: 50%;\n",
              "      cursor: pointer;\n",
              "      display: none;\n",
              "      fill: #1967D2;\n",
              "      height: 32px;\n",
              "      padding: 0 0 0 0;\n",
              "      width: 32px;\n",
              "    }\n",
              "\n",
              "    .colab-df-convert:hover {\n",
              "      background-color: #E2EBFA;\n",
              "      box-shadow: 0px 1px 2px rgba(60, 64, 67, 0.3), 0px 1px 3px 1px rgba(60, 64, 67, 0.15);\n",
              "      fill: #174EA6;\n",
              "    }\n",
              "\n",
              "    [theme=dark] .colab-df-convert {\n",
              "      background-color: #3B4455;\n",
              "      fill: #D2E3FC;\n",
              "    }\n",
              "\n",
              "    [theme=dark] .colab-df-convert:hover {\n",
              "      background-color: #434B5C;\n",
              "      box-shadow: 0px 1px 3px 1px rgba(0, 0, 0, 0.15);\n",
              "      filter: drop-shadow(0px 1px 2px rgba(0, 0, 0, 0.3));\n",
              "      fill: #FFFFFF;\n",
              "    }\n",
              "  </style>\n",
              "\n",
              "      <script>\n",
              "        const buttonEl =\n",
              "          document.querySelector('#df-d591352a-f0e7-4371-9895-480b5e1c1814 button.colab-df-convert');\n",
              "        buttonEl.style.display =\n",
              "          google.colab.kernel.accessAllowed ? 'block' : 'none';\n",
              "\n",
              "        async function convertToInteractive(key) {\n",
              "          const element = document.querySelector('#df-d591352a-f0e7-4371-9895-480b5e1c1814');\n",
              "          const dataTable =\n",
              "            await google.colab.kernel.invokeFunction('convertToInteractive',\n",
              "                                                     [key], {});\n",
              "          if (!dataTable) return;\n",
              "\n",
              "          const docLinkHtml = 'Like what you see? Visit the ' +\n",
              "            '<a target=\"_blank\" href=https://colab.research.google.com/notebooks/data_table.ipynb>data table notebook</a>'\n",
              "            + ' to learn more about interactive tables.';\n",
              "          element.innerHTML = '';\n",
              "          dataTable['output_type'] = 'display_data';\n",
              "          await google.colab.output.renderOutput(dataTable, element);\n",
              "          const docLink = document.createElement('div');\n",
              "          docLink.innerHTML = docLinkHtml;\n",
              "          element.appendChild(docLink);\n",
              "        }\n",
              "      </script>\n",
              "    </div>\n",
              "  </div>\n",
              "  "
            ]
          },
          "metadata": {},
          "execution_count": 27
        }
      ]
    },
    {
      "cell_type": "code",
      "source": [
        "df_x  =df_t.iloc[:,1:]\n",
        "df_y = df_t.iloc[:,0:1]\n",
        "df_x = np.array(df_x)\n",
        "df_y = np.array(df_y)"
      ],
      "metadata": {
        "id": "9qBKRlzR0dd9"
      },
      "execution_count": 28,
      "outputs": []
    },
    {
      "cell_type": "code",
      "source": [
        "df_x = df_x.reshape(df_x.shape[0],28,28,1)"
      ],
      "metadata": {
        "id": "eTYmXrCs0df5"
      },
      "execution_count": 29,
      "outputs": []
    },
    {
      "cell_type": "code",
      "source": [
        "np.unique(df_y).shape"
      ],
      "metadata": {
        "colab": {
          "base_uri": "https://localhost:8080/"
        },
        "id": "V0Wi_kUn0diB",
        "outputId": "24a1851f-4001-4774-b675-0ea25b0faa97"
      },
      "execution_count": 30,
      "outputs": [
        {
          "output_type": "execute_result",
          "data": {
            "text/plain": [
              "(7,)"
            ]
          },
          "metadata": {},
          "execution_count": 30
        }
      ]
    },
    {
      "cell_type": "code",
      "source": [
        "model_em = keras.models.Sequential()\n",
        "model_em.add(keras.layers.Conv2D(filters=12, kernel_size=(5,5), strides=2, activation='relu', input_shape=(28,28,1)))\n",
        "model_em.add(keras.layers.Dropout(.5))\n",
        "model_em.add(keras.layers.Conv2D(filters=18, kernel_size=(3,3) , strides=2, activation='relu'))\n",
        "model_em.add(keras.layers.Dropout(.5))\n",
        "model_em.add(keras.layers.Conv2D(filters=24, kernel_size=(2,2), activation='relu'))\n",
        "model_em.add(keras.layers.Flatten())\n",
        "model_em.add(keras.layers.Dense(units=150, activation='relu'))\n",
        "model_em.add(keras.layers.Dense(7, activation='softmax'))\n",
        "model_em.compile(loss='sparse_categorical_crossentropy', optimizer='Adam', metrics=['accuracy'])\n",
        "model_em.summary()"
      ],
      "metadata": {
        "colab": {
          "base_uri": "https://localhost:8080/"
        },
        "id": "zSn09L9v0dkS",
        "outputId": "3e62e999-460d-4b4d-e1c5-e54c99f9d1f0"
      },
      "execution_count": 31,
      "outputs": [
        {
          "output_type": "stream",
          "name": "stdout",
          "text": [
            "Model: \"sequential_1\"\n",
            "_________________________________________________________________\n",
            " Layer (type)                Output Shape              Param #   \n",
            "=================================================================\n",
            " conv2d_3 (Conv2D)           (None, 12, 12, 12)        312       \n",
            "                                                                 \n",
            " dropout_2 (Dropout)         (None, 12, 12, 12)        0         \n",
            "                                                                 \n",
            " conv2d_4 (Conv2D)           (None, 5, 5, 18)          1962      \n",
            "                                                                 \n",
            " dropout_3 (Dropout)         (None, 5, 5, 18)          0         \n",
            "                                                                 \n",
            " conv2d_5 (Conv2D)           (None, 4, 4, 24)          1752      \n",
            "                                                                 \n",
            " flatten_1 (Flatten)         (None, 384)               0         \n",
            "                                                                 \n",
            " dense_2 (Dense)             (None, 150)               57750     \n",
            "                                                                 \n",
            " dense_3 (Dense)             (None, 7)                 1057      \n",
            "                                                                 \n",
            "=================================================================\n",
            "Total params: 62,833\n",
            "Trainable params: 62,833\n",
            "Non-trainable params: 0\n",
            "_________________________________________________________________\n"
          ]
        }
      ]
    },
    {
      "cell_type": "code",
      "source": [
        "x_tr_em, x_ts_em , y_tr_em, y_ts_em = train_test_split(df_x, df_y, test_size=0.33, random_state=42)"
      ],
      "metadata": {
        "id": "Yn-JTRIt0dml"
      },
      "execution_count": 32,
      "outputs": []
    },
    {
      "cell_type": "code",
      "source": [
        "history = model_em.fit(x_tr_em, y_tr_em, epochs=50)"
      ],
      "metadata": {
        "colab": {
          "base_uri": "https://localhost:8080/"
        },
        "id": "dXySjQjZ4dwc",
        "outputId": "ca0e5336-d6b6-4ba8-cefd-7195762075fc"
      },
      "execution_count": 33,
      "outputs": [
        {
          "output_type": "stream",
          "name": "stdout",
          "text": [
            "Epoch 1/50\n",
            "156/156 [==============================] - 2s 9ms/step - loss: 3.4004 - accuracy: 0.2410\n",
            "Epoch 2/50\n",
            "156/156 [==============================] - 1s 9ms/step - loss: 1.6753 - accuracy: 0.3592\n",
            "Epoch 3/50\n",
            "156/156 [==============================] - 1s 9ms/step - loss: 1.4272 - accuracy: 0.4631\n",
            "Epoch 4/50\n",
            "156/156 [==============================] - 1s 9ms/step - loss: 1.2531 - accuracy: 0.5347\n",
            "Epoch 5/50\n",
            "156/156 [==============================] - 1s 9ms/step - loss: 1.0719 - accuracy: 0.6141\n",
            "Epoch 6/50\n",
            "156/156 [==============================] - 1s 9ms/step - loss: 0.9703 - accuracy: 0.6526\n",
            "Epoch 7/50\n",
            "156/156 [==============================] - 1s 9ms/step - loss: 0.8612 - accuracy: 0.6928\n",
            "Epoch 8/50\n",
            "156/156 [==============================] - 1s 9ms/step - loss: 0.7663 - accuracy: 0.7239\n",
            "Epoch 9/50\n",
            "156/156 [==============================] - 1s 9ms/step - loss: 0.6751 - accuracy: 0.7610\n",
            "Epoch 10/50\n",
            "156/156 [==============================] - 1s 9ms/step - loss: 0.6354 - accuracy: 0.7749\n",
            "Epoch 11/50\n",
            "156/156 [==============================] - 2s 10ms/step - loss: 0.5890 - accuracy: 0.7865\n",
            "Epoch 12/50\n",
            "156/156 [==============================] - 1s 10ms/step - loss: 0.5369 - accuracy: 0.8054\n",
            "Epoch 13/50\n",
            "156/156 [==============================] - 1s 9ms/step - loss: 0.5080 - accuracy: 0.8209\n",
            "Epoch 14/50\n",
            "156/156 [==============================] - 2s 11ms/step - loss: 0.4822 - accuracy: 0.8355\n",
            "Epoch 15/50\n",
            "156/156 [==============================] - 1s 9ms/step - loss: 0.4374 - accuracy: 0.8440\n",
            "Epoch 16/50\n",
            "156/156 [==============================] - 1s 9ms/step - loss: 0.4077 - accuracy: 0.8568\n",
            "Epoch 17/50\n",
            "156/156 [==============================] - 1s 9ms/step - loss: 0.3892 - accuracy: 0.8594\n",
            "Epoch 18/50\n",
            "156/156 [==============================] - 1s 9ms/step - loss: 0.3610 - accuracy: 0.8685\n",
            "Epoch 19/50\n",
            "156/156 [==============================] - 1s 9ms/step - loss: 0.3476 - accuracy: 0.8739\n",
            "Epoch 20/50\n",
            "156/156 [==============================] - 1s 9ms/step - loss: 0.3408 - accuracy: 0.8721\n",
            "Epoch 21/50\n",
            "156/156 [==============================] - 1s 9ms/step - loss: 0.3163 - accuracy: 0.8902\n",
            "Epoch 22/50\n",
            "156/156 [==============================] - 1s 9ms/step - loss: 0.3239 - accuracy: 0.8857\n",
            "Epoch 23/50\n",
            "156/156 [==============================] - 1s 9ms/step - loss: 0.2996 - accuracy: 0.8932\n",
            "Epoch 24/50\n",
            "156/156 [==============================] - 1s 9ms/step - loss: 0.2821 - accuracy: 0.8978\n",
            "Epoch 25/50\n",
            "156/156 [==============================] - 1s 9ms/step - loss: 0.2886 - accuracy: 0.8934\n",
            "Epoch 26/50\n",
            "156/156 [==============================] - 1s 9ms/step - loss: 0.2684 - accuracy: 0.9042\n",
            "Epoch 27/50\n",
            "156/156 [==============================] - 1s 9ms/step - loss: 0.2479 - accuracy: 0.9096\n",
            "Epoch 28/50\n",
            "156/156 [==============================] - 1s 9ms/step - loss: 0.2734 - accuracy: 0.9026\n",
            "Epoch 29/50\n",
            "156/156 [==============================] - 1s 9ms/step - loss: 0.2553 - accuracy: 0.9120\n",
            "Epoch 30/50\n",
            "156/156 [==============================] - 1s 9ms/step - loss: 0.2398 - accuracy: 0.9127\n",
            "Epoch 31/50\n",
            "156/156 [==============================] - 1s 9ms/step - loss: 0.2438 - accuracy: 0.9135\n",
            "Epoch 32/50\n",
            "156/156 [==============================] - 1s 9ms/step - loss: 0.2330 - accuracy: 0.9183\n",
            "Epoch 33/50\n",
            "156/156 [==============================] - 1s 9ms/step - loss: 0.2021 - accuracy: 0.9279\n",
            "Epoch 34/50\n",
            "156/156 [==============================] - 1s 9ms/step - loss: 0.2359 - accuracy: 0.9163\n",
            "Epoch 35/50\n",
            "156/156 [==============================] - 1s 9ms/step - loss: 0.1940 - accuracy: 0.9287\n",
            "Epoch 36/50\n",
            "156/156 [==============================] - 1s 9ms/step - loss: 0.2072 - accuracy: 0.9253\n",
            "Epoch 37/50\n",
            "156/156 [==============================] - 1s 9ms/step - loss: 0.1994 - accuracy: 0.9285\n",
            "Epoch 38/50\n",
            "156/156 [==============================] - 1s 9ms/step - loss: 0.1959 - accuracy: 0.9293\n",
            "Epoch 39/50\n",
            "156/156 [==============================] - 1s 9ms/step - loss: 0.2024 - accuracy: 0.9245\n",
            "Epoch 40/50\n",
            "156/156 [==============================] - 1s 9ms/step - loss: 0.1918 - accuracy: 0.9319\n",
            "Epoch 41/50\n",
            "156/156 [==============================] - 1s 9ms/step - loss: 0.1889 - accuracy: 0.9311\n",
            "Epoch 42/50\n",
            "156/156 [==============================] - 1s 9ms/step - loss: 0.1586 - accuracy: 0.9428\n",
            "Epoch 43/50\n",
            "156/156 [==============================] - 1s 9ms/step - loss: 0.1858 - accuracy: 0.9355\n",
            "Epoch 44/50\n",
            "156/156 [==============================] - 1s 9ms/step - loss: 0.1919 - accuracy: 0.9315\n",
            "Epoch 45/50\n",
            "156/156 [==============================] - 1s 9ms/step - loss: 0.1633 - accuracy: 0.9458\n",
            "Epoch 46/50\n",
            "156/156 [==============================] - 1s 9ms/step - loss: 0.1641 - accuracy: 0.9402\n",
            "Epoch 47/50\n",
            "156/156 [==============================] - 1s 9ms/step - loss: 0.1689 - accuracy: 0.9420\n",
            "Epoch 48/50\n",
            "156/156 [==============================] - 1s 9ms/step - loss: 0.1563 - accuracy: 0.9458\n",
            "Epoch 49/50\n",
            "156/156 [==============================] - 1s 9ms/step - loss: 0.1779 - accuracy: 0.9378\n",
            "Epoch 50/50\n",
            "156/156 [==============================] - 1s 9ms/step - loss: 0.1612 - accuracy: 0.9428\n"
          ]
        }
      ]
    },
    {
      "cell_type": "code",
      "source": [
        "model_em.evaluate(x_ts_em,y_ts_em)"
      ],
      "metadata": {
        "colab": {
          "base_uri": "https://localhost:8080/"
        },
        "id": "bJrZlZsI0dox",
        "outputId": "387e3102-aed1-4d0b-be82-7903da774fb9"
      },
      "execution_count": 34,
      "outputs": [
        {
          "output_type": "stream",
          "name": "stdout",
          "text": [
            "77/77 [==============================] - 0s 4ms/step - loss: 0.0796 - accuracy: 0.9735\n"
          ]
        },
        {
          "output_type": "execute_result",
          "data": {
            "text/plain": [
              "[0.07963631302118301, 0.9735018610954285]"
            ]
          },
          "metadata": {},
          "execution_count": 34
        }
      ]
    },
    {
      "cell_type": "code",
      "source": [
        ""
      ],
      "metadata": {
        "id": "sc4SZNNs0d0g"
      },
      "execution_count": 34,
      "outputs": []
    },
    {
      "cell_type": "code",
      "source": [
        "test_img = cv2.imread(\"mosaic_img_test.jpg\")"
      ],
      "metadata": {
        "id": "e-4FKJOz9njt"
      },
      "execution_count": 57,
      "outputs": []
    },
    {
      "cell_type": "code",
      "source": [
        "test_img = np.array(test_img)\n",
        "test_img.shape"
      ],
      "metadata": {
        "colab": {
          "base_uri": "https://localhost:8080/"
        },
        "id": "oz0YDg_v9nl6",
        "outputId": "467c2b3a-1c8a-4c45-9ddb-cb262e9ad572"
      },
      "execution_count": 58,
      "outputs": [
        {
          "output_type": "execute_result",
          "data": {
            "text/plain": [
              "(721, 1895, 3)"
            ]
          },
          "metadata": {},
          "execution_count": 58
        }
      ]
    },
    {
      "cell_type": "code",
      "source": [
        "plt.imshow(test_img)\n",
        "print(test_img.shape)"
      ],
      "metadata": {
        "colab": {
          "base_uri": "https://localhost:8080/",
          "height": 196
        },
        "id": "3hMVcrRf9nph",
        "outputId": "e20bfdb1-72db-47ac-a11e-436e5802bb58"
      },
      "execution_count": 59,
      "outputs": [
        {
          "output_type": "stream",
          "name": "stdout",
          "text": [
            "(721, 1895, 3)\n"
          ]
        },
        {
          "output_type": "display_data",
          "data": {
            "text/plain": [
              "<Figure size 432x288 with 1 Axes>"
            ],
            "image/png": "[encoded data removed]"
          },
          "metadata": {
            "needs_background": "light"
          }
        }
      ]
    },
    {
      "cell_type": "code",
      "source": [
        "test_img = cv2.cvtColor(test_img,cv2.COLOR_BGR2GRAY)"
      ],
      "metadata": {
        "id": "zo_zXz6gBoww"
      },
      "execution_count": 60,
      "outputs": []
    },
    {
      "cell_type": "code",
      "source": [
        "p,q =test_img.shape\n",
        "(p,q)\n",
        "#test_img1 = test_img"
      ],
      "metadata": {
        "colab": {
          "base_uri": "https://localhost:8080/"
        },
        "id": "cwTbXHsMINMz",
        "outputId": "d01eb1a9-d3e1-4683-907c-a2fcf3901021"
      },
      "execution_count": 61,
      "outputs": [
        {
          "output_type": "execute_result",
          "data": {
            "text/plain": [
              "(721, 1895)"
            ]
          },
          "metadata": {},
          "execution_count": 61
        }
      ]
    },
    {
      "cell_type": "code",
      "source": [
        "test_img1 = preprocess2(test_img)\n"
      ],
      "metadata": {
        "id": "ep4MFx6aI5KM"
      },
      "execution_count": 62,
      "outputs": []
    },
    {
      "cell_type": "code",
      "source": [
        "plt.imshow(test_img1,cmap='gray')\n"
      ],
      "metadata": {
        "colab": {
          "base_uri": "https://localhost:8080/",
          "height": 196
        },
        "id": "DRItr9AhOQci",
        "outputId": "51870900-cbb6-4b3d-c8e2-5ecf91952d79"
      },
      "execution_count": 63,
      "outputs": [
        {
          "output_type": "execute_result",
          "data": {
            "text/plain": [
              "<matplotlib.image.AxesImage at 0x7fe7c1aa6250>"
            ]
          },
          "metadata": {},
          "execution_count": 63
        },
        {
          "output_type": "display_data",
          "data": {
            "text/plain": [
              "<Figure size 432x288 with 1 Axes>"
            ],
            "image/png": "[encoded data removed]"
          },
          "metadata": {
            "needs_background": "light"
          }
        }
      ]
    },
    {
      "cell_type": "code",
      "source": [
        "def add_border(imgg1):\n",
        "  colour = [0,0,0]\n",
        "  constant= cv2.copyMakeBorder(imgg1,50,50,50,50,cv2.BORDER_CONSTANT,value=colour)\n",
        "  return constant"
      ],
      "metadata": {
        "id": "2lN2NbpAKz2C"
      },
      "execution_count": 64,
      "outputs": []
    },
    {
      "cell_type": "code",
      "source": [
        "def segment(img):\n",
        "  kernel = np.ones((3,3))\n",
        "  gray_image=img\n",
        "  lst=[]\n",
        "  for j in range(gray_image.shape[1]):\n",
        "    sum = 0\n",
        "    for i in range(gray_image.shape[0]):\n",
        "      sum = sum+gray_image[i][j]\n",
        "    #print(sum)\n",
        "    lst.append(sum)\n",
        "  # print(lst)\n",
        "  rect_x = []\n",
        "  f = 0\n",
        "  print(len(lst))\n",
        "  for i in range(len(lst)):\n",
        "    if lst[i]>1200 and f==0:\n",
        "      x1=i\n",
        "      #print(i)\n",
        "      f=1\n",
        "    elif lst[i] ==0 and f==1:\n",
        "      x2=i\n",
        "      if(abs(x1-x2)>30):\n",
        "        rect_x.append((min(x1,x2),max(x1,x2)))\n",
        "      f=0 \n",
        "  rect_y=[]\n",
        "  for x1,x2 in rect_x:\n",
        "    lst2=[]\n",
        "    for i in range(gray_image.shape[0]):\n",
        "      sum=0\n",
        "      for j in range(min(x1,x2),max(x1,x2)+1):\n",
        "        sum = sum+gray_image[i][j]\n",
        "      lst2.append(sum)\n",
        "\n",
        "    f=0\n",
        "    for i in range(len(lst2)):\n",
        "      if lst2[i] >1200 and f==0:\n",
        "        y1=i\n",
        "        f=1\n",
        "      if lst2[i] ==0 and f==1:\n",
        "        y2=i\n",
        "        if(abs(y2-y1)>30):\n",
        "          rect_y.append((min(y1,y2),max(y1,y2)))\n",
        "          break\n",
        "        f=0 \n",
        "  return gray_image, rect_x, rect_y"
      ],
      "metadata": {
        "id": "FOfS5y8FIPgE"
      },
      "execution_count": 65,
      "outputs": []
    },
    {
      "cell_type": "code",
      "source": [
        "# plt.imshow(test_img1)"
      ],
      "metadata": {
        "id": "7jFUqnIaEEOM"
      },
      "execution_count": 66,
      "outputs": []
    },
    {
      "cell_type": "code",
      "source": [
        "gr_im1,rec_x,rec_y=segment(test_img1)\n",
        "print(rec_x)\n",
        "print(rec_y)\n",
        "plt.imshow(gr_im1,cmap='gray')"
      ],
      "metadata": {
        "id": "l5CaONd6IPh_",
        "colab": {
          "base_uri": "https://localhost:8080/",
          "height": 249
        },
        "outputId": "fd9c5496-56d6-42a8-c318-d6806c789a21"
      },
      "execution_count": 67,
      "outputs": [
        {
          "output_type": "stream",
          "name": "stdout",
          "text": [
            "1895\n",
            "[(273, 385), (447, 638), (653, 1027), (1109, 1232), (1326, 1471), (1544, 1705)]\n",
            "[(361, 506), (319, 503), (216, 608), (318, 458), (318, 424), (281, 448)]\n"
          ]
        },
        {
          "output_type": "execute_result",
          "data": {
            "text/plain": [
              "<matplotlib.image.AxesImage at 0x7fe7c19e9290>"
            ]
          },
          "metadata": {},
          "execution_count": 67
        },
        {
          "output_type": "display_data",
          "data": {
            "text/plain": [
              "<Figure size 432x288 with 1 Axes>"
            ],
            "image/png": "[encoded data removed]"
          },
          "metadata": {
            "needs_background": "light"
          }
        }
      ]
    },
    {
      "cell_type": "code",
      "source": [
        "str=\"\"\n",
        "for i in range(len(rec_x)):\n",
        "  x1,x2 = rec_x[i]\n",
        "  y1,y2 = rec_y[i]\n",
        "  pr_img = test_img1[y1:y2,x1:x2]\n",
        "  pr_img = add_border(pr_img)\n",
        "  pr_img = cv2.resize(pr_img,(28,28),interpolation= cv2.INTER_AREA)\n",
        "  #print(pr_img)\n",
        "  if i==1:\n",
        "    plt.imshow(pr_img,cmap='gray')\n",
        "  pr_img = np.resize(pr_img,(1,28,28))\n",
        "  #print(pr_img.shape)\n",
        "  ans1 = model.predict(pr_img)\n",
        "  ans2= model_em.predict(pr_img)\n",
        "  max1 = np.max(ans1)\n",
        "  max2 = np.max(ans2)\n",
        "  pos1 = np.argmax(ans1,axis=1)\n",
        "  pos2 = np.argmax(ans2,axis=1)\n",
        "  #print(pos1)\n",
        "  ans=-1\n",
        "  if max1>0.90:\n",
        "    ans=pos1[0]\n",
        "  if ans==-1:\n",
        "    if max1>max2:\n",
        "      ans = pos1[0]\n",
        "    else:\n",
        "      ans = pos2[0]+26\n",
        "  str=str+map_p[ans+1]"
      ],
      "metadata": {
        "id": "V4jqXr4CIPkV",
        "colab": {
          "base_uri": "https://localhost:8080/",
          "height": 265
        },
        "outputId": "9047cfcd-ae53-4fa5-b3e2-259d09c9ce8e"
      },
      "execution_count": 70,
      "outputs": [
        {
          "output_type": "display_data",
          "data": {
            "text/plain": [
              "<Figure size 432x288 with 1 Axes>"
            ],
            "image/png": "[encoded data removed]"
          },
          "metadata": {
            "needs_background": "light"
          }
        }
      ]
    },
    {
      "cell_type": "markdown",
      "source": [
        "Answer"
      ],
      "metadata": {
        "id": "ZJaPJyicmR8m"
      }
    },
    {
      "cell_type": "code",
      "source": [
        "print(str)"
      ],
      "metadata": {
        "colab": {
          "base_uri": "https://localhost:8080/"
        },
        "id": "5dtGgBAAc_Pi",
        "outputId": "af654a73-37ab-4abd-fdb0-4e5f18ec1177"
      },
      "execution_count": 69,
      "outputs": [
        {
          "output_type": "stream",
          "name": "stdout",
          "text": [
            "B17KW6\n"
          ]
        }
      ]
    },
    {
      "cell_type": "code",
      "source": [
        "model.save('model_for_alpha_fin.h5')\n",
        "model_em.save('model_for_emo_fin.h5')"
      ],
      "metadata": {
        "id": "mTV4khF7BtrH"
      },
      "execution_count": 47,
      "outputs": []
    },
    {
      "cell_type": "code",
      "source": [
        ""
      ],
      "metadata": {
        "id": "8s6RH_dSBttV"
      },
      "execution_count": 47,
      "outputs": []
    },
    {
      "cell_type": "code",
      "source": [
        "\n"
      ],
      "metadata": {
        "id": "V_jYutTGBtwx"
      },
      "execution_count": 47,
      "outputs": []
    },
    {
      "cell_type": "code",
      "source": [
        ""
      ],
      "metadata": {
        "id": "SL6DoVTJdCsQ"
      },
      "execution_count": 47,
      "outputs": []
    }
  ]
}